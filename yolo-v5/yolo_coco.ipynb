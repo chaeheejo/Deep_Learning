{
 "cells": [
  {
   "cell_type": "markdown",
   "id": "97de28d2-48ff-4c32-93ff-ae5b4acc4aad",
   "metadata": {},
   "source": [
    "### yolo-v4 설치"
   ]
  },
  {
   "cell_type": "code",
   "execution_count": 1,
   "id": "b027f1d5",
   "metadata": {},
   "outputs": [
    {
     "name": "stdout",
     "output_type": "stream",
     "text": [
      "Cloning into 'yolov5'...\n",
      "remote: Enumerating objects: 12825, done.\u001b[K\n",
      "remote: Counting objects: 100% (106/106), done.\u001b[K\n",
      "remote: Compressing objects: 100% (60/60), done.\u001b[K\n",
      "remote: Total 12825 (delta 61), reused 83 (delta 46), pack-reused 12719\u001b[K\n",
      "Receiving objects: 100% (12825/12825), 12.42 MiB | 8.97 MiB/s, done.\n",
      "Resolving deltas: 100% (8816/8816), done.\n"
     ]
    }
   ],
   "source": [
    "!git clone https://github.com/ultralytics/yolov5"
   ]
  },
  {
   "cell_type": "markdown",
   "id": "adc9f24a-b12a-4e3b-845b-8528fd501a45",
   "metadata": {},
   "source": [
    "### 버전"
   ]
  },
  {
   "cell_type": "code",
   "execution_count": 1,
   "id": "33a28c5f-3ba4-4a3a-9d6a-6f7d3dc3ee29",
   "metadata": {},
   "outputs": [
    {
     "name": "stdout",
     "output_type": "stream",
     "text": [
      "Torch version:1.7.1+cu110\n",
      "cuda version: 11.0\n",
      "cudnn version:8005\n"
     ]
    }
   ],
   "source": [
    "import torch\n",
    "\n",
    "print(\"Torch version:{}\".format(torch.__version__))\n",
    "print(\"cuda version: {}\".format(torch.version.cuda))\n",
    "print(\"cudnn version:{}\".format(torch.backends.cudnn.version()))"
   ]
  },
  {
   "cell_type": "code",
   "execution_count": 6,
   "id": "68a7a262-4778-4db0-8d4b-8257f305459e",
   "metadata": {},
   "outputs": [
    {
     "name": "stdout",
     "output_type": "stream",
     "text": [
      "3.8.8 (default, Apr 13 2021, 19:58:26) \n",
      "[GCC 7.3.0]\n"
     ]
    }
   ],
   "source": [
    "import sys\n",
    " \n",
    "print(sys.version)"
   ]
  },
  {
   "cell_type": "markdown",
   "id": "957a1dab-8e13-48a3-a24f-9286d6f6ac07",
   "metadata": {},
   "source": [
    "### 폴더 이동"
   ]
  },
  {
   "cell_type": "code",
   "execution_count": 10,
   "id": "3e1d666c",
   "metadata": {},
   "outputs": [
    {
     "name": "stdout",
     "output_type": "stream",
     "text": [
      "/home/chae/yolo-v5/yolov5\n"
     ]
    }
   ],
   "source": [
    "%cd yolov5"
   ]
  },
  {
   "cell_type": "code",
   "execution_count": 11,
   "id": "71de9ea4-4952-4dde-9da7-b6597014a69f",
   "metadata": {},
   "outputs": [
    {
     "name": "stdout",
     "output_type": "stream",
     "text": [
      "/home/chae/yolo-v5/yolov5\n"
     ]
    }
   ],
   "source": [
    "!pwd"
   ]
  },
  {
   "cell_type": "markdown",
   "id": "148d873f-a337-4dbf-9d20-4b86233a54da",
   "metadata": {},
   "source": [
    "### coco validation 데이터셋을 활용해 모델 실행"
   ]
  },
  {
   "cell_type": "code",
   "execution_count": null,
   "id": "9a5d6572",
   "metadata": {},
   "outputs": [],
   "source": [
    "import torch\n",
    "\n",
    "torch.hub.download_url_to_file('https://ultralytics.com/assets/coco2017val.zip', 'tmp.zip')\n",
    "!unzip -q tmp.zip -d ./datasets && rm tmp.zip"
   ]
  },
  {
   "cell_type": "code",
   "execution_count": null,
   "id": "904ace24",
   "metadata": {},
   "outputs": [],
   "source": [
    "%run val.py --weights yolov5s.pt --data coco.yaml --img 640 --iou 0.65 --half"
   ]
  },
  {
   "cell_type": "markdown",
   "id": "2dd60cb6-6229-43ac-9f0b-ca60da99dcb3",
   "metadata": {},
   "source": [
    "### coco test 데이터셋을 활용해 모델 실행"
   ]
  },
  {
   "cell_type": "code",
   "execution_count": null,
   "id": "04eccee3-67b2-43c8-9579-fbf909bab8bd",
   "metadata": {},
   "outputs": [],
   "source": [
    "import torch\n",
    "\n",
    "torch.hub.download_url_to_file('https://ultralytics.com/assets/coco2017labels.zip', 'tmp.zip')"
   ]
  },
  {
   "cell_type": "code",
   "execution_count": null,
   "id": "0531fb9b-8bf0-4145-bd21-dbb01d799eac",
   "metadata": {},
   "outputs": [],
   "source": [
    "!unzip -q tmp.zip -d ../datasets && rm tmp.zip\n",
    "!f=\"test2017.zip\" && curl http://images.cocodataset.org/zips/$f -o $f && unzip -q $f -d ./datasets/coco/images"
   ]
  },
  {
   "cell_type": "code",
   "execution_count": null,
   "id": "b34dcf33-d464-49e1-94fd-2fc615636f2d",
   "metadata": {},
   "outputs": [],
   "source": [
    "%run val.py --weights yolov5s.pt --data coco.yaml --img 640 --iou 0.65 --half --task test"
   ]
  },
  {
   "cell_type": "markdown",
   "id": "0ef0416f",
   "metadata": {},
   "source": [
    "### convert pt to tflite"
   ]
  },
  {
   "cell_type": "code",
   "execution_count": null,
   "id": "18933ab2",
   "metadata": {},
   "outputs": [],
   "source": [
    "%run export.py --weights yolov5s.pt --include tflite"
   ]
  }
 ],
 "metadata": {
  "kernelspec": {
   "display_name": "yolo_env",
   "language": "python",
   "name": "torchenv"
  },
  "language_info": {
   "codemirror_mode": {
    "name": "ipython",
    "version": 3
   },
   "file_extension": ".py",
   "mimetype": "text/x-python",
   "name": "python",
   "nbconvert_exporter": "python",
   "pygments_lexer": "ipython3",
   "version": "3.8.8"
  }
 },
 "nbformat": 4,
 "nbformat_minor": 5
}
