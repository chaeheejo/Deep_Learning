{
 "cells": [
  {
   "cell_type": "markdown",
   "id": "97de28d2-48ff-4c32-93ff-ae5b4acc4aad",
   "metadata": {},
   "source": [
    "### yolo-v4 설치"
   ]
  },
  {
   "cell_type": "code",
   "execution_count": 1,
   "id": "b027f1d5",
   "metadata": {},
   "outputs": [
    {
     "name": "stdout",
     "output_type": "stream",
     "text": [
      "Cloning into 'yolov5'...\n",
      "remote: Enumerating objects: 12825, done.\u001b[K\n",
      "remote: Counting objects: 100% (106/106), done.\u001b[K\n",
      "remote: Compressing objects: 100% (60/60), done.\u001b[K\n",
      "remote: Total 12825 (delta 61), reused 83 (delta 46), pack-reused 12719\u001b[K\n",
      "Receiving objects: 100% (12825/12825), 12.42 MiB | 8.97 MiB/s, done.\n",
      "Resolving deltas: 100% (8816/8816), done.\n"
     ]
    }
   ],
   "source": [
    "!git clone https://github.com/ultralytics/yolov5"
   ]
  },
  {
   "cell_type": "markdown",
   "id": "adc9f24a-b12a-4e3b-845b-8528fd501a45",
   "metadata": {},
   "source": [
    "### 버전"
   ]
  },
  {
   "cell_type": "code",
   "execution_count": 1,
   "id": "33a28c5f-3ba4-4a3a-9d6a-6f7d3dc3ee29",
   "metadata": {},
   "outputs": [
    {
     "name": "stdout",
     "output_type": "stream",
     "text": [
      "Torch version:1.7.1+cu110\n",
      "cuda version: 11.0\n",
      "cudnn version:8005\n"
     ]
    }
   ],
   "source": [
    "import torch\n",
    "\n",
    "print(\"Torch version:{}\".format(torch.__version__))\n",
    "print(\"cuda version: {}\".format(torch.version.cuda))\n",
    "print(\"cudnn version:{}\".format(torch.backends.cudnn.version()))"
   ]
  },
  {
   "cell_type": "code",
   "execution_count": 6,
   "id": "68a7a262-4778-4db0-8d4b-8257f305459e",
   "metadata": {},
   "outputs": [
    {
     "name": "stdout",
     "output_type": "stream",
     "text": [
      "3.8.8 (default, Apr 13 2021, 19:58:26) \n",
      "[GCC 7.3.0]\n"
     ]
    }
   ],
   "source": [
    "import sys\n",
    " \n",
    "print(sys.version)"
   ]
  },
  {
   "cell_type": "markdown",
   "id": "957a1dab-8e13-48a3-a24f-9286d6f6ac07",
   "metadata": {},
   "source": [
    "### 폴더 이동"
   ]
  },
  {
   "cell_type": "code",
   "execution_count": 10,
   "id": "3e1d666c",
   "metadata": {},
   "outputs": [
    {
     "name": "stdout",
     "output_type": "stream",
     "text": [
      "/home/chae/yolo-v5/yolov5\n"
     ]
    }
   ],
   "source": [
    "%cd yolov5"
   ]
  },
  {
   "cell_type": "code",
   "execution_count": 11,
   "id": "71de9ea4-4952-4dde-9da7-b6597014a69f",
   "metadata": {},
   "outputs": [
    {
     "name": "stdout",
     "output_type": "stream",
     "text": [
      "/home/chae/yolo-v5/yolov5\n"
     ]
    }
   ],
   "source": [
    "!pwd"
   ]
  },
  {
   "cell_type": "markdown",
   "id": "148d873f-a337-4dbf-9d20-4b86233a54da",
   "metadata": {},
   "source": [
    "### coco validation 데이터셋을 활용해 모델 실행"
   ]
  },
  {
   "cell_type": "code",
   "execution_count": null,
   "id": "9a5d6572",
   "metadata": {},
   "outputs": [],
   "source": [
    "import torch\n",
    "\n",
    "torch.hub.download_url_to_file('https://ultralytics.com/assets/coco2017val.zip', 'tmp.zip')\n",
    "!unzip -q tmp.zip -d ./datasets && rm tmp.zip"
   ]
  },
  {
   "cell_type": "code",
   "execution_count": 3,
   "id": "904ace24",
   "metadata": {},
   "outputs": [
    {
     "name": "stderr",
     "output_type": "stream",
     "text": [
      "\u001b[34m\u001b[1mval: \u001b[0mdata=/home/chae/yolo-v5/yolov5/data/coco.yaml, weights=['yolov5x.pt'], batch_size=32, imgsz=640, conf_thres=0.001, iou_thres=0.65, task=val, device=, workers=8, single_cls=False, augment=False, verbose=False, save_txt=False, save_hybrid=False, save_conf=False, save_json=True, project=runs/val, name=exp, exist_ok=False, half=True, dnn=False\n",
      "YOLOv5 🚀 v6.1-307-g92e47b8 Python-3.8.8 torch-1.7.1+cu110 CUDA:0 (NVIDIA GeForce RTX 3090, 24268MiB)\n",
      "\n",
      "Fusing layers... \n",
      "YOLOv5x summary: 444 layers, 86705005 parameters, 0 gradients, 205.5 GFLOPs\n",
      "Downloading https://ultralytics.com/assets/Arial.ttf to /home/chae/.config/Ultralytics/Arial.ttf...\n"
     ]
    },
    {
     "data": {
      "application/vnd.jupyter.widget-view+json": {
       "model_id": "4f455d7b6923448ebbf740bf105ca07e",
       "version_major": 2,
       "version_minor": 0
      },
      "text/plain": [
       "  0%|          | 0.00/755k [00:00<?, ?B/s]"
      ]
     },
     "metadata": {},
     "output_type": "display_data"
    },
    {
     "name": "stderr",
     "output_type": "stream",
     "text": [
      "\u001b[34m\u001b[1mval: \u001b[0mScanning '/home/chae/yolo-v5/datasets/coco/val2017' images and labels...4952 found, 48 missing, 0 empty, 0 corrupt: 100%|██████████| 5000/5000 [00:00<00:00, 16984.19it/s]\n",
      "\u001b[34m\u001b[1mval: \u001b[0mNew cache created: /home/chae/yolo-v5/datasets/coco/val2017.cache\n",
      "               Class     Images     Labels          P          R     mAP@.5 mAP@.5:.95: 100%|██████████| 157/157 [01:05<00:00,  2.41it/s]\n",
      "                 all       5000      36335      0.743      0.625      0.683      0.504\n",
      "Speed: 0.1ms pre-process, 6.0ms inference, 1.0ms NMS per image at shape (32, 3, 640, 640)\n",
      "\n",
      "Evaluating pycocotools mAP... saving runs/val/exp8/yolov5x_predictions.json...\n",
      "\u001b[31m\u001b[1mrequirements:\u001b[0m pycocotools not found and is required by YOLOv5, attempting auto-update...\n",
      "\u001b[31m\u001b[1mrequirements:\u001b[0m Command 'pip install \"pycocotools\" ' returned non-zero exit status 127.\n",
      "pycocotools unable to run: No module named 'pycocotools'\n",
      "Results saved to \u001b[1mruns/val/exp8\u001b[0m\n"
     ]
    }
   ],
   "source": [
    "%run val.py --weights yolov5x.pt --data coco.yaml --img 640 --iou 0.65 --half"
   ]
  },
  {
   "cell_type": "markdown",
   "id": "2dd60cb6-6229-43ac-9f0b-ca60da99dcb3",
   "metadata": {},
   "source": [
    "### coco test 데이터셋을 활용해 모델 실행"
   ]
  },
  {
   "cell_type": "code",
   "execution_count": 2,
   "id": "04eccee3-67b2-43c8-9579-fbf909bab8bd",
   "metadata": {},
   "outputs": [
    {
     "data": {
      "application/vnd.jupyter.widget-view+json": {
       "model_id": "36724ff748304985a596df5c54670a4e",
       "version_major": 2,
       "version_minor": 0
      },
      "text/plain": [
       "  0%|          | 0.00/67.7M [00:00<?, ?B/s]"
      ]
     },
     "metadata": {},
     "output_type": "display_data"
    }
   ],
   "source": [
    "import torch\n",
    "\n",
    "torch.hub.download_url_to_file('https://ultralytics.com/assets/coco2017labels.zip', 'tmp.zip')"
   ]
  },
  {
   "cell_type": "code",
   "execution_count": 3,
   "id": "0531fb9b-8bf0-4145-bd21-dbb01d799eac",
   "metadata": {},
   "outputs": [
    {
     "name": "stdout",
     "output_type": "stream",
     "text": [
      "  % Total    % Received % Xferd  Average Speed   Time    Time     Time  Current\n",
      "                                 Dload  Upload   Total   Spent    Left  Speed\n",
      "100 6339M  100 6339M    0     0  2266k      0  0:47:44  0:47:44 --:--:-- 3887k8:11  0:00:34  1:07:37 2145k   0     0  1996k      0  0:54:11  0:01:50  0:52:21 1983k:50:40 1749k51  0:54:24 1520k06:52  0:39:27 5222k5:38  0:08:11  0:37:27 2865kM    0     0  2329k      0  0:46:26  0:09:38  0:36:48 2193k:33:30 4711k5:10  0:31:19 2997k   0  2341k      0  0:46:11  0:15:53  0:30:18 3058k     0  2303k      0  0:46:58  0:18:13  0:28:45 1194k17  0:18:36  0:28:41 1738k 0  0:48:58  0:20:43  0:28:15 1668k0  2205k      0  0:49:03  0:20:49  0:28:14 1374k32  0:22:13  0:27:19 1845k  0:22:27  0:27:02 2775k  0:26:01 1594k:24:02  0:25:58 1448k     0  0:50:24  0:25:55  0:24:29 1812k0     0  2120k      0  0:51:00  0:28:15  0:22:45 2962k21:31 1563k:57  0:20:53  917k:24  0:31:44  0:19:40 2880k1  0:33:52  0:15:59 2734k9:32  0:41:21  0:08:11 1467k8  0:43:55  0:05:13 2867k 0:44:00  0:05:06 2966k    0  0:49:11  0:44:26  0:04:45 2239k:02:11 2783k  0  0:48:20  0:46:15  0:02:05 2833k:33  0:01:39 2687k:05  0:47:02  0:01:03 3191k\n",
      "checkdir:  cannot create extraction directory: ../datasets/coco_test/images\n",
      "           No such file or directory\n"
     ]
    }
   ],
   "source": [
    "!unzip -q tmp.zip -d ../datasets && rm tmp.zip\n",
    "!f=\"test2017.zip\" && curl http://images.cocodataset.org/zips/$f -o $f && unzip -q $f -d ./datasets/coco/images"
   ]
  },
  {
   "cell_type": "code",
   "execution_count": 12,
   "id": "b34dcf33-d464-49e1-94fd-2fc615636f2d",
   "metadata": {},
   "outputs": [
    {
     "name": "stderr",
     "output_type": "stream",
     "text": [
      "\u001b[34m\u001b[1mval: \u001b[0mdata=/home/chae/yolo-v5/yolov5/data/coco.yaml, weights=['yolov5x.pt'], batch_size=32, imgsz=640, conf_thres=0.001, iou_thres=0.65, task=test, device=, workers=8, single_cls=False, augment=False, verbose=False, save_txt=False, save_hybrid=False, save_conf=False, save_json=True, project=runs/val, name=exp, exist_ok=False, half=True, dnn=False\n",
      "YOLOv5 🚀 v6.1-307-g92e47b8 Python-3.8.8 torch-1.7.1+cu110 CUDA:0 (NVIDIA GeForce RTX 3090, 24268MiB)\n",
      "\n",
      "Fusing layers... \n",
      "YOLOv5x summary: 444 layers, 86705005 parameters, 0 gradients, 205.5 GFLOPs\n",
      "\u001b[34m\u001b[1mtest: \u001b[0mScanning '/home/chae/yolo-v5/datasets/coco_test/test-dev2017' images and labels...0 found, 20288 missing, 0 empty, 0 corrupt: 100%|██████████| 20288/20288 [00:01<00:00, 15181.94it/s]\n",
      "\u001b[34m\u001b[1mtest: \u001b[0mWARNING: No labels found in /home/chae/yolo-v5/datasets/coco_test/test-dev2017.cache. See https://github.com/ultralytics/yolov5/wiki/Train-Custom-Data\n",
      "\u001b[34m\u001b[1mtest: \u001b[0mNew cache created: /home/chae/yolo-v5/datasets/coco_test/test-dev2017.cache\n",
      "               Class     Images     Labels          P          R     mAP@.5 mAP@.5:.95: 100%|██████████| 634/634 [02:57<00:00,  3.57it/s]\n",
      "                 all      20288          0          0          0          0          0\n",
      "Speed: 0.1ms pre-process, 6.0ms inference, 1.0ms NMS per image at shape (32, 3, 640, 640)\n",
      "\n",
      "Evaluating pycocotools mAP... saving runs/val/exp9/yolov5x_predictions.json...\n",
      "\u001b[31m\u001b[1mrequirements:\u001b[0m pycocotools not found and is required by YOLOv5, attempting auto-update...\n",
      "\u001b[31m\u001b[1mrequirements:\u001b[0m Command 'pip install \"pycocotools\" ' returned non-zero exit status 127.\n",
      "pycocotools unable to run: No module named 'pycocotools'\n",
      "Results saved to \u001b[1mruns/val/exp9\u001b[0m\n"
     ]
    }
   ],
   "source": [
    "%run val.py --weights yolov5x.pt --data coco.yaml --img 640 --iou 0.65 --half --task test"
   ]
  }
 ],
 "metadata": {
  "kernelspec": {
   "display_name": "yolo_env",
   "language": "python",
   "name": "torchenv"
  },
  "language_info": {
   "codemirror_mode": {
    "name": "ipython",
    "version": 3
   },
   "file_extension": ".py",
   "mimetype": "text/x-python",
   "name": "python",
   "nbconvert_exporter": "python",
   "pygments_lexer": "ipython3",
   "version": "3.8.8"
  }
 },
 "nbformat": 4,
 "nbformat_minor": 5
}
